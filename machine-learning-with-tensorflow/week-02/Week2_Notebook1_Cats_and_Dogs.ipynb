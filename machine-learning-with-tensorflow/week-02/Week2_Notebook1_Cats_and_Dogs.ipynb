{
  "cells": [
    {
      "cell_type": "markdown",
      "metadata": {
        "id": "QChPkeeHj_7S"
      },
      "source": [
        "# Image Preprocessing and Binary Classification with Keras\n",
        "\n",
        "## Objective\n",
        "In this week's exercise, you will:\n",
        "1. Learn how to image preprocessing in keras.\n",
        "2. Build and train a multilayer neural network for binary classification on a real-world dataset of cats and dogs.\n",
        "\n",
        "---\n",
        "\n",
        "## Step 1: Import Libraries\n",
        "Let's start by importing the necessary libraries.\n"
      ]
    },
    {
      "cell_type": "code",
      "execution_count": 4,
      "metadata": {
        "id": "uwxamNx9j_7V"
      },
      "outputs": [],
      "source": [
        "import numpy as np\n",
        "import matplotlib.pyplot as plt\n",
        "import tensorflow as tf\n",
        "from tensorflow.keras.preprocessing.image import ImageDataGenerator\n",
        "from tensorflow.keras.models import Sequential\n",
        "from tensorflow.keras.layers import Conv2D, MaxPooling2D, Flatten, Dense, Dropout\n",
        "import os\n",
        "import random"
      ]
    },
    {
      "cell_type": "markdown",
      "metadata": {
        "id": "FanLO-STj_7W"
      },
      "source": [
        "---\n",
        "\n",
        "## Step 2: Load and Preprocess the Data\n",
        "We will use the Keras `ImageDataGenerator` for image augmentation and preprocessing.\n",
        "First, unzip the uploaded dataset.\n"
      ]
    },
    {
      "cell_type": "code",
      "execution_count": 2,
      "metadata": {
        "id": "1d3w7RoJj_7Z"
      },
      "outputs": [],
      "source": [
        "!unzip -q /content/kagglecatsanddogs_5340.zip"
      ]
    },
    {
      "cell_type": "markdown",
      "metadata": {
        "id": "gqVTVA2Hj_7b"
      },
      "source": [
        "## Step 3: Learn about undersampling and implement it\n",
        "Research online what undersampling and random undersampling is. It is a very powerful technique used often in machine Learning. Find out when it is used and undersample your dataset using \"random undersampling\""
      ]
    },
    {
      "cell_type": "code",
      "execution_count": 5,
      "metadata": {
        "id": "dilgbJPKj_7c",
        "outputId": "c91b6547-d7f3-4ad4-8225-b3e5cdd8a356",
        "colab": {
          "base_uri": "https://localhost:8080/"
        }
      },
      "outputs": [
        {
          "output_type": "stream",
          "name": "stdout",
          "text": [
            "Total images in Dog:12501\n",
            "Undersampled images from Dog\n",
            "['9965.jpg', '4424.jpg', '10841.jpg', '2203.jpg', '2024.jpg', '5273.jpg', '7447.jpg', '8251.jpg', '4445.jpg', '7351.jpg', '5638.jpg', '11221.jpg', '278.jpg', '7001.jpg', '1554.jpg', '12345.jpg', '3448.jpg', '777.jpg', '10248.jpg', '155.jpg', '2930.jpg', '3898.jpg', '8721.jpg', '12250.jpg', '594.jpg', '4628.jpg', '11733.jpg', '11927.jpg', '8577.jpg', '6308.jpg', '7145.jpg', '11981.jpg', '1967.jpg', '4557.jpg', '7759.jpg', '9775.jpg', '5194.jpg', '6489.jpg', '2074.jpg', '4134.jpg', '7474.jpg', '11936.jpg', '10852.jpg', '1331.jpg', '3177.jpg', '3225.jpg', '11643.jpg', '8830.jpg', '7740.jpg', '10976.jpg', '6317.jpg', '8528.jpg', '10649.jpg', '5313.jpg', '3165.jpg', '3820.jpg', '8031.jpg', '4884.jpg', '6663.jpg', '4193.jpg', '8569.jpg', '8541.jpg', '6414.jpg', '9522.jpg', '6026.jpg', '7477.jpg', '3496.jpg', '9441.jpg', '4306.jpg', '9395.jpg', '7676.jpg', '6233.jpg', '4733.jpg', '2644.jpg', '888.jpg', '5321.jpg', '7320.jpg', '2630.jpg', '5501.jpg', '992.jpg', '1878.jpg', '9385.jpg', '10193.jpg', '6073.jpg', '7924.jpg', '7435.jpg', '706.jpg', '4692.jpg', '8727.jpg', '5054.jpg', '5799.jpg', '1566.jpg', '3848.jpg', '7984.jpg', '8209.jpg', '676.jpg', '5946.jpg', '4595.jpg', '5766.jpg', '2750.jpg']\n",
            "Total images in Cat:12501\n",
            "Undersampled images from Cat\n",
            "['7239.jpg', '10594.jpg', '1602.jpg', '2214.jpg', '5133.jpg', '8498.jpg', '1480.jpg', '4123.jpg', '10093.jpg', '7754.jpg', '6509.jpg', '2186.jpg', '3029.jpg', '11686.jpg', '6433.jpg', '8346.jpg', '4741.jpg', '12451.jpg', '9386.jpg', '4231.jpg', '7947.jpg', '11406.jpg', '4530.jpg', '10685.jpg', '36.jpg', '2346.jpg', '11487.jpg', '2878.jpg', '12206.jpg', '384.jpg', '7902.jpg', '8154.jpg', '4946.jpg', '2594.jpg', '8486.jpg', '835.jpg', '5589.jpg', '4892.jpg', '7944.jpg', '4426.jpg', '2585.jpg', '3879.jpg', '10260.jpg', '8996.jpg', '12011.jpg', '5909.jpg', '3660.jpg', '10417.jpg', '7226.jpg', '9704.jpg', '8167.jpg', '5604.jpg', '5779.jpg', '9335.jpg', '1595.jpg', '1613.jpg', '5891.jpg', '669.jpg', '2901.jpg', '2322.jpg', '7942.jpg', '4671.jpg', '2859.jpg', '11039.jpg', '3123.jpg', '1267.jpg', '5947.jpg', '9852.jpg', '4129.jpg', '12459.jpg', '5603.jpg', '7825.jpg', '11019.jpg', '10947.jpg', '11780.jpg', '1742.jpg', '6693.jpg', '3169.jpg', '10536.jpg', '5712.jpg', '4370.jpg', '9381.jpg', '2253.jpg', '12324.jpg', '4454.jpg', '6369.jpg', '1550.jpg', '11683.jpg', '12469.jpg', '1230.jpg', '5059.jpg', '5770.jpg', '9462.jpg', '12496.jpg', '3939.jpg', '8528.jpg', '6251.jpg', '8564.jpg', '7605.jpg', '4913.jpg']\n"
          ]
        }
      ],
      "source": [
        "# undersample your dataset here\n",
        "def undersample_data(directory, class_name, target_size):\n",
        "  class_dir = os.path.join(directory, class_name) #path to the class foler\n",
        "  images = os.listdir(class_dir) # listing all images in the class directory\n",
        "\n",
        "  #Number of images in the class\n",
        "  print(f\"Total images in {class_name}:{len(images)}\")\n",
        "\n",
        "  #check if number of images is greater than or equal to the target size\n",
        "  if len(images) < target_size:\n",
        "    print(f\"!! The class {class_name} has fewer images than {target_size}\")\n",
        "    return images #no undersampling done and return all the images\n",
        "\n",
        "  # select a random subset of images\n",
        "  undersampled_images = random.sample(images,target_size)\n",
        "\n",
        "  #printing list of undersampled images\n",
        "  print(f\"Undersampled images from {class_name}\")\n",
        "  print(undersampled_images)\n",
        "\n",
        "#set the path to unzipped dataset\n",
        "train_dir = \"/content/PetImages\"\n",
        "\n",
        "undersampled_dogs = undersample_data(train_dir, \"Dog\", 100)\n",
        "undersampled_cats = undersample_data(train_dir, \"Cat\", 100)"
      ]
    },
    {
      "cell_type": "markdown",
      "metadata": {
        "id": "2HLzUB0jj_7d"
      },
      "source": [
        "---\n",
        "\n",
        "## Step 4: Set Up ImageDataGenerator (or well more specifically the new version)\n",
        "Were Sorry - the videos from the coursera course are sometimes not the most up to date. In this case the 'ImageDataGenerator' function is deprecated (look here https://www.tensorflow.org/api_docs/python/tf/keras/preprocessing/image/ImageDataGenerator) and will be removed in the future versions. The concept behind the new reccomended function is very similar though.\n",
        "The new reccomendation is loading images with tf.keras.utils.image_dataset_from_directory and transforming the output tf.data.Dataset with preprocessing layers.\n",
        "\n",
        "You may use Chat GPT for this task and you can also check the following tutorials <br>\n",
        "https://www.tensorflow.org/tutorials/load_data/images <br>\n",
        "https://www.tensorflow.org/tutorials/load_data/images <br>\n",
        "https://www.tensorflow.org/guide/keras/preprocessing_layers <br>"
      ]
    },
    {
      "cell_type": "code",
      "execution_count": null,
      "metadata": {
        "id": "EqLNS9tRj_7e"
      },
      "outputs": [],
      "source": [
        "# TODO create a dataset using the recommended methods"
      ]
    },
    {
      "cell_type": "markdown",
      "metadata": {
        "id": "P6bWxQHLj_7g"
      },
      "source": [
        "---\n",
        "\n",
        "## Step 5: Build a Multilayer Neural Network\n",
        "Now, let's build a multilayer neural network for binary classification.\n"
      ]
    },
    {
      "cell_type": "code",
      "execution_count": null,
      "metadata": {
        "id": "ASpT-ollj_7h"
      },
      "outputs": [],
      "source": [
        "# TODO build a model\n",
        "\n",
        "# TODO compile the model\n"
      ]
    },
    {
      "cell_type": "markdown",
      "metadata": {
        "id": "N8uOtG2qj_7i"
      },
      "source": [
        "---\n",
        "\n",
        "## Step 6: Train the Model\n",
        "Train the model using the Dataset you created\n"
      ]
    },
    {
      "cell_type": "code",
      "execution_count": null,
      "metadata": {
        "id": "vYBJPZUFj_7k"
      },
      "outputs": [],
      "source": []
    },
    {
      "cell_type": "markdown",
      "metadata": {
        "id": "jLrAF5tjj_7k"
      },
      "source": [
        "---\n",
        "\n",
        "## Step 7: Evaluate the Model\n",
        "After training, you may upload some test images to evaluate your model.\n"
      ]
    },
    {
      "cell_type": "code",
      "execution_count": null,
      "metadata": {
        "id": "ro_sTxFTj_7l"
      },
      "outputs": [],
      "source": [
        "from tensorflow.keras.preprocessing import image\n",
        "import numpy as np\n",
        "from google.colab import files\n",
        "\n",
        "def load_and_predict(model):\n",
        "    uploaded_files = files.upload()\n",
        "\n",
        "    for fn in uploaded_files.keys():\n",
        "        path = '/content/' + fn\n",
        "        img = image.load_img(path, target_size=(150, 150))\n",
        "\n",
        "        x = image.img_to_array(img)\n",
        "        x = np.expand_dims(x, axis=0) / 255.0\n",
        "\n",
        "        classes = model.predict(x)\n",
        "        result = \"a dog\" if classes[0] > 0.5 else \"a cat\"\n",
        "\n",
        "        print(f'The model predicts that the image is of {result}')\n",
        "\n",
        "# Call the function to upload images and get predictions\n",
        "load_and_predict(model)"
      ]
    }
  ],
  "metadata": {
    "kernelspec": {
      "display_name": ".ve_tensorflow_course",
      "language": "python",
      "name": "python3"
    },
    "language_info": {
      "codemirror_mode": {
        "name": "ipython",
        "version": 3
      },
      "file_extension": ".py",
      "mimetype": "text/x-python",
      "name": "python",
      "nbconvert_exporter": "python",
      "pygments_lexer": "ipython3",
      "version": "3.10.10"
    },
    "colab": {
      "provenance": []
    }
  },
  "nbformat": 4,
  "nbformat_minor": 0
}