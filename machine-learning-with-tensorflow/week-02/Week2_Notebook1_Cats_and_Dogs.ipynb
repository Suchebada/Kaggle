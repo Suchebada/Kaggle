{
  "cells": [
    {
      "cell_type": "markdown",
      "metadata": {
        "id": "eNp-rwqA-qNc"
      },
      "source": [
        "# Image Preprocessing and Binary Classification with Keras\n",
        "\n",
        "## Objective\n",
        "In this week's exercise, you will:\n",
        "1. Learn how to image preprocessing in keras.\n",
        "2. Build and train a multilayer neural network for binary classification on a real-world dataset of cats and dogs.\n",
        "\n",
        "---\n",
        "\n",
        "## Step 1: Import Libraries\n",
        "Let's start by importing the necessary libraries.\n"
      ]
    },
    {
      "cell_type": "code",
      "execution_count": 10,
      "metadata": {
        "id": "jjJg_sAQ-qNf"
      },
      "outputs": [],
      "source": [
        "import numpy as np\n",
        "import matplotlib.pyplot as plt\n",
        "import tensorflow as tf\n",
        "from tensorflow.keras.preprocessing.image import ImageDataGenerator\n",
        "from tensorflow.keras.models import Sequential\n",
        "from tensorflow.keras.layers import Conv2D, MaxPooling2D, Flatten, Dense, Dropout\n",
        "import os\n",
        "import random\n"
      ]
    },
    {
      "cell_type": "markdown",
      "metadata": {
        "id": "Xu2eU_7i-qNg"
      },
      "source": [
        "---\n",
        "\n",
        "## Step 2: Load and Preprocess the Data\n",
        "We will use the Keras `ImageDataGenerator` for image augmentation and preprocessing.\n",
        "First, unzip the uploaded dataset.\n"
      ]
    },
    {
      "cell_type": "code",
      "execution_count": 7,
      "metadata": {
        "id": "DTmCcU61-qNh"
      },
      "outputs": [],
      "source": [
        "!unzip -q /content/kagglecatsanddogs_5340.zip"
      ]
    },
    {
      "cell_type": "markdown",
      "metadata": {
        "id": "OXr9Marb-qNh"
      },
      "source": [
        "## Step 3: Learn about undersampling and implement it\n",
        "Research online what undersampling and random undersampling is. It is a very powerful technique used often in machine Learning. Find out when it is used and undersample your dataset using \"random undersampling\""
      ]
    },
    {
      "cell_type": "code",
      "execution_count": 20,
      "metadata": {
        "colab": {
          "base_uri": "https://localhost:8080/"
        },
        "id": "ctgVp7-F-qNi",
        "outputId": "8b6ba78f-424d-4de8-b4c8-a2e605103e57"
      },
      "outputs": [
        {
          "output_type": "stream",
          "name": "stdout",
          "text": [
            "Undersampled images from Dog\n",
            "[]\n",
            "Undersampled images from Cat\n",
            "['6548.jpg', '3659.jpg', '10943.jpg', '5364.jpg', '8801.jpg', '1684.jpg', '2110.jpg', '7833.jpg', '12256.jpg', '10340.jpg', '6855.jpg', '11008.jpg', '2594.jpg', '11953.jpg', '5815.jpg', '4885.jpg', '2806.jpg', '6153.jpg', '1951.jpg', '8941.jpg', '11712.jpg', '11981.jpg', '8730.jpg', '3872.jpg', '9479.jpg', '10627.jpg', '1357.jpg', '5013.jpg', '8648.jpg', '3607.jpg', '3558.jpg', '10834.jpg', '9238.jpg', '11860.jpg', '12221.jpg', '1264.jpg', '1831.jpg', '1124.jpg', '8035.jpg', '4962.jpg', '10354.jpg', '491.jpg', '54.jpg', '5584.jpg', '1947.jpg', '6740.jpg', '879.jpg', '5899.jpg', '11815.jpg', '8671.jpg', '10669.jpg', '4698.jpg', '583.jpg', '2886.jpg', '5106.jpg', '9035.jpg', '4867.jpg', '10207.jpg', '10316.jpg', '8611.jpg', '11398.jpg', '5011.jpg', '3142.jpg', '6648.jpg', '9988.jpg', '3571.jpg', '2800.jpg', '8565.jpg', '7112.jpg', '1039.jpg', '10335.jpg', '5490.jpg', '4535.jpg', '687.jpg', '5507.jpg', '3462.jpg', '3553.jpg', '195.jpg', '2182.jpg', '1937.jpg', '10691.jpg', '8296.jpg', '11139.jpg', '11156.jpg', '1660.jpg', '12134.jpg', '8374.jpg', '8537.jpg', '6653.jpg', '11004.jpg', '12370.jpg', '6807.jpg', '6152.jpg', '11273.jpg', '12033.jpg', '2413.jpg', '6002.jpg', '6895.jpg', '4997.jpg', '242.jpg']\n"
          ]
        }
      ],
      "source": [
        "# undersample your dataset here\n",
        "def undersample_data(directory, class_name, target_size):\n",
        "  class_dir = os.path.join(directory, class_name) #path to the class foler\n",
        "  images = os.listdir(class_dir) # listing all images in the class directory\n",
        "\n",
        "  #check if number of images is greater than or equal to the target size\n",
        "  if len(images) < target_size:\n",
        "    print(f\"!! The class {class_name} has fewer images than {target_size}\")\n",
        "    return images #no undersampling done and return all the images\n",
        "\n",
        "  # select a random subset of images\n",
        "  undersampled_images = random.sample(images,target_size)\n",
        "\n",
        "  #printing list of undersampled images\n",
        "  print(f\"Undersampled images from {class_name}\")\n",
        "  print(undersampled_images)\n",
        "\n",
        "#set the path to unzipped dataset\n",
        "train_dir = \"/content/PetImages\"\n",
        "\n",
        "undersampled_dogs = undersample_data(train_dir, \"Dog\", 0)\n",
        "undersampled_cats = undersample_data(train_dir, \"Cat\", 100)"
      ]
    },
    {
      "cell_type": "markdown",
      "metadata": {
        "id": "g9Nu_tMH-qNk"
      },
      "source": [
        "---\n",
        "\n",
        "## Step 4: Set Up ImageDataGenerator (or well more specifically the new version)\n",
        "Were Sorry - the videos from the coursera course are sometimes not the most up to date. In this case the 'ImageDataGenerator' function is deprecated (look here https://www.tensorflow.org/api_docs/python/tf/keras/preprocessing/image/ImageDataGenerator) and will be removed in the future versions. The concept behind the new reccomended function is very similar though.\n",
        "The new reccomendation is loading images with tf.keras.utils.image_dataset_from_directory and transforming the output tf.data.Dataset with preprocessing layers.\n",
        "\n",
        "You may use Chat GPT for this task and you can also check the following tutorials <br>\n",
        "https://www.tensorflow.org/tutorials/load_data/images <br>\n",
        "https://www.tensorflow.org/tutorials/load_data/images <br>\n",
        "https://www.tensorflow.org/guide/keras/preprocessing_layers <br>"
      ]
    },
    {
      "cell_type": "code",
      "execution_count": null,
      "metadata": {
        "id": "Bu-YrIVH-qNm"
      },
      "outputs": [],
      "source": [
        "# TODO create a dataset using the recommended methods"
      ]
    },
    {
      "cell_type": "markdown",
      "metadata": {
        "id": "Dd7AU23e-qNn"
      },
      "source": [
        "---\n",
        "\n",
        "## Step 5: Build a Multilayer Neural Network\n",
        "Now, let's build a multilayer neural network for binary classification.\n"
      ]
    },
    {
      "cell_type": "code",
      "execution_count": null,
      "metadata": {
        "id": "GB52DaZT-qNr"
      },
      "outputs": [],
      "source": [
        "# TODO build a model\n",
        "\n",
        "# TODO compile the model\n"
      ]
    },
    {
      "cell_type": "markdown",
      "metadata": {
        "id": "PrRnnPDg-qNr"
      },
      "source": [
        "---\n",
        "\n",
        "## Step 6: Train the Model\n",
        "Train the model using the Dataset you created\n"
      ]
    },
    {
      "cell_type": "code",
      "execution_count": null,
      "metadata": {
        "id": "TsrsgGtr-qNt"
      },
      "outputs": [],
      "source": []
    },
    {
      "cell_type": "markdown",
      "metadata": {
        "id": "b8oq-vIh-qNu"
      },
      "source": [
        "---\n",
        "\n",
        "## Step 7: Evaluate the Model\n",
        "After training, you may upload some test images to evaluate your model.\n"
      ]
    },
    {
      "cell_type": "code",
      "execution_count": null,
      "metadata": {
        "id": "O01xKBCv-qNu"
      },
      "outputs": [],
      "source": [
        "from tensorflow.keras.preprocessing import image\n",
        "import numpy as np\n",
        "from google.colab import files\n",
        "\n",
        "def load_and_predict(model):\n",
        "    uploaded_files = files.upload()\n",
        "\n",
        "    for fn in uploaded_files.keys():\n",
        "        path = '/content/' + fn\n",
        "        img = image.load_img(path, target_size=(150, 150))\n",
        "\n",
        "        x = image.img_to_array(img)\n",
        "        x = np.expand_dims(x, axis=0) / 255.0\n",
        "\n",
        "        classes = model.predict(x)\n",
        "        result = \"a dog\" if classes[0] > 0.5 else \"a cat\"\n",
        "\n",
        "        print(f'The model predicts that the image is of {result}')\n",
        "\n",
        "# Call the function to upload images and get predictions\n",
        "load_and_predict(model)"
      ]
    }
  ],
  "metadata": {
    "kernelspec": {
      "display_name": ".ve_tensorflow_course",
      "language": "python",
      "name": "python3"
    },
    "language_info": {
      "codemirror_mode": {
        "name": "ipython",
        "version": 3
      },
      "file_extension": ".py",
      "mimetype": "text/x-python",
      "name": "python",
      "nbconvert_exporter": "python",
      "pygments_lexer": "ipython3",
      "version": "3.10.10"
    },
    "colab": {
      "provenance": []
    }
  },
  "nbformat": 4,
  "nbformat_minor": 0
}